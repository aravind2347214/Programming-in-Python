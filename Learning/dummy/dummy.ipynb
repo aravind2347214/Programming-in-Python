{
 "cells": [
  {
   "cell_type": "code",
   "execution_count": 22,
   "metadata": {},
   "outputs": [
    {
     "name": "stdout",
     "output_type": "stream",
     "text": [
      "Sucess\n"
     ]
    }
   ],
   "source": [
    "import regex as re\n",
    "\n",
    "pattern=r\"[a-zA-Z0-9_\\-\\.]+[@][a-z\\.]+[\\.][a-z]{2,3}\"\n",
    "# [a-zA-Z0-9_\\-\\.]+[@]{1}[a-z\\.][\\.][a-z]{2,3}\n",
    "email=input(\"Enter Email\")\n",
    "if(re.search(pattern,email)):\n",
    "    print(\"Sucess\")\n",
    "else:\n",
    "    print(\"Fail\")"
   ]
  },
  {
   "cell_type": "code",
   "execution_count": 2,
   "metadata": {},
   "outputs": [],
   "source": [
    "from tkinter import *\n",
    "top=Tk()\n",
    "a= Label(top,text=\"Hello\")\n",
    "a.pack()\n",
    "top.geometry('400x400')\n",
    "top.mainloop()"
   ]
  }
 ],
 "metadata": {
  "kernelspec": {
   "display_name": "Python 3",
   "language": "python",
   "name": "python3"
  },
  "language_info": {
   "codemirror_mode": {
    "name": "ipython",
    "version": 3
   },
   "file_extension": ".py",
   "mimetype": "text/x-python",
   "name": "python",
   "nbconvert_exporter": "python",
   "pygments_lexer": "ipython3",
   "version": "3.9.13"
  },
  "orig_nbformat": 4
 },
 "nbformat": 4,
 "nbformat_minor": 2
}
