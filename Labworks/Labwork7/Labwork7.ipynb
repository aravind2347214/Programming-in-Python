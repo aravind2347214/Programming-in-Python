{
 "cells": [
  {
   "cell_type": "code",
   "execution_count": 12,
   "metadata": {},
   "outputs": [
    {
     "name": "stdout",
     "output_type": "stream",
     "text": [
      "MAT 1 :\n",
      " [[2 2 4]\n",
      " [3 3 4]\n",
      " [4 1 4]]\n",
      "MAT 2 :\n",
      " [[2 3 4]\n",
      " [3 2 2]\n",
      " [1 4 4]]\n",
      "Product Matrix\n",
      " 42467328 \n",
      "\n",
      "Multiply Matrix\n",
      " [[ 4  6 16]\n",
      " [ 9  6  8]\n",
      " [ 4  4 16]] \n",
      "\n",
      "Dot Product Matrix\n",
      " [[14 26 28]\n",
      " [19 31 34]\n",
      " [15 30 34]]\n"
     ]
    }
   ],
   "source": [
    "'''\n",
    "Create two 3×3 matrices using the random function in Numpy and perform the following operations.\n",
    "-> Product (prod)\n",
    "-> Multiplication (multiply)\n",
    "-> Dot Product (dot)\n",
    "'''\n",
    "import numpy as np\n",
    "matrix1=np.random.randint(1,5,size=(3,3))\n",
    "matrix2=np.random.randint(1,5,size=(3,3))\n",
    "\n",
    "print(\"MAT 1 :\\n\",matrix1)\n",
    "print(\"MAT 2 :\\n\",matrix2)\n",
    "\n",
    "prodMatrix=np.prod([matrix1,matrix2])\n",
    "multiplyMatrix=np.multiply(matrix1,matrix2)\n",
    "dotProductMatrix=np.dot(matrix1,matrix2)\n",
    "\n",
    "print(\"Product Matrix\\n\",prodMatrix,\"\\n\")\n",
    "print(\"Multiply Matrix\\n\",multiplyMatrix,\"\\n\")\n",
    "print(\"Dot Product Matrix\\n\",dotProductMatrix)\n"
   ]
  },
  {
   "cell_type": "code",
   "execution_count": 11,
   "metadata": {},
   "outputs": [
    {
     "name": "stdout",
     "output_type": "stream",
     "text": [
      "Union Array\n",
      " [1 2 3 4 5 6 7 8 9] \n",
      "\n",
      "Intersection Array\n",
      " [2 3 5] \n",
      "\n",
      "Diffrence Array\n",
      " [1 6 8]\n"
     ]
    }
   ],
   "source": [
    "'''\n",
    "Perform the following set operations using the Numpy functions.\n",
    "-> Union\n",
    "-> Intersection\n",
    "-> Set difference\n",
    "-> XOR\n",
    "'''\n",
    "arr1=np.array([1,3,2,5,6,8])\n",
    "arr2=np.array([7,3,4,5,2,9])\n",
    "\n",
    "union_arr=np.union1d(arr1,arr2)\n",
    "intersection_arr=np.intersect1d(arr1,arr2)\n",
    "diffrence_arr=np.setdiff1d(arr1,arr2)\n",
    "print(\"Union Array\\n\",union_arr,\"\\n\")\n",
    "print(\"Intersection Array\\n\",intersection_arr,\"\\n\")\n",
    "print(\"Diffrence Array\\n\",diffrence_arr)"
   ]
  },
  {
   "cell_type": "code",
   "execution_count": 14,
   "metadata": {},
   "outputs": [
    {
     "name": "stdout",
     "output_type": "stream",
     "text": [
      "Cumulative Sum\n",
      " [ 3  4  5  8 12 15 19 20 23 25] \n",
      "\n",
      "Cumulative Product \n",
      " [   3    3    3    9   36  108  432  432 1296 2592] \n",
      "\n",
      "Discrete Difference\n",
      " [ 0 -3 -1  4 -6  9 -8] \n",
      "\n",
      "Unique Elements\n",
      " [1 2 3 4]\n"
     ]
    }
   ],
   "source": [
    "'''\n",
    "Create a 1D array using Random function and perform the following operations.\n",
    "-> Cumulative sum\n",
    "-> Cumulative Product\n",
    "-> Discrete difference (with n=3)\n",
    "-> Find the unique elements from the array\n",
    "'''\n",
    "arr=np.random.randint(1,5,size=(10))\n",
    "cumsum = np.cumsum(arr)\n",
    "cumprod = np.cumprod(arr)\n",
    "discdiff = np.diff(arr,n=3)\n",
    "uniqueElements = np.unique(arr)\n",
    "print(\"Cumulative Sum\\n\",cumsum,\"\\n\")\n",
    "print(\"Cumulative Product \\n\",cumprod,\"\\n\")\n",
    "print(\"Discrete Difference\\n\",discdiff,\"\\n\")\n",
    "print(\"Unique Elements\\n\",uniqueElements)"
   ]
  },
  {
   "cell_type": "code",
   "execution_count": 5,
   "metadata": {},
   "outputs": [
    {
     "name": "stdout",
     "output_type": "stream",
     "text": [
      "Zip() Method\n",
      "(1, 5)  \n",
      "(1, 6)  \n",
      "(4, 6)  \n",
      "(1, 2)  \n",
      "(4, 2)  \n",
      "(3, 5)  \n",
      "(4, 2)  \n",
      "(4, 3)  \n",
      "(4, 6)  \n",
      "(2, 3)  \n",
      "\n",
      "Add() method :\n",
      " [ 6  7 10  3  6  8  6  7 10  5] \n",
      "\n",
      "frompyfunc() method :\n",
      " [6 7 10 3 6 8 6 7 10 5] \n",
      "\n"
     ]
    }
   ],
   "source": [
    "''' \n",
    "Create two 1D array and perform the Addition using zip(), add() and user defined function (frompyfunc())\n",
    "'''\n",
    "import numpy as np\n",
    "arr1=np.random.randint(1,5,size=(10))\n",
    "arr2=np.random.randint(2,7,size=(10))\n",
    "zipsum=zip(arr1,arr2)\n",
    "addsum=np.add(arr1,arr2)\n",
    "\n",
    "def add(a,b):\n",
    "    return a+b\n",
    "addfunc = np.frompyfunc(add,2,1)\n",
    "addfuncresult=addfunc(arr1,arr2)\n",
    "\n",
    "print(\"Zip() Method\")\n",
    "for i in zipsum:\n",
    "    print(i,\" \")\n",
    "print(\"\\nAdd() method :\\n\",addsum,\"\\n\")\n",
    "print(\"frompyfunc() method :\\n\",addfuncresult,\"\\n\")"
   ]
  },
  {
   "cell_type": "code",
   "execution_count": 2,
   "metadata": {},
   "outputs": [
    {
     "name": "stdout",
     "output_type": "stream",
     "text": [
      "LCM :  12\n",
      "GCD :  1\n"
     ]
    }
   ],
   "source": [
    "''' \n",
    "Find the LCM (Least Common Multiple) and GCD (Greatest Common Divisor) of an array of elements using reduce().\n",
    "'''\n",
    "import numpy as np\n",
    "arr=np.random.randint(1,5,size=(10))\n",
    "LCM = np.lcm.reduce(arr)\n",
    "GCD = np.gcd.reduce(arr)\n",
    "print(\"LCM : \",LCM)\n",
    "print(\"GCD : \",GCD)"
   ]
  }
 ],
 "metadata": {
  "kernelspec": {
   "display_name": "Python 3",
   "language": "python",
   "name": "python3"
  },
  "language_info": {
   "codemirror_mode": {
    "name": "ipython",
    "version": 3
   },
   "file_extension": ".py",
   "mimetype": "text/x-python",
   "name": "python",
   "nbconvert_exporter": "python",
   "pygments_lexer": "ipython3",
   "version": "3.9.13"
  },
  "orig_nbformat": 4
 },
 "nbformat": 4,
 "nbformat_minor": 2
}
