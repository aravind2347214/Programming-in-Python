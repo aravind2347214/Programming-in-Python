{
 "cells": [
  {
   "cell_type": "code",
   "execution_count": 2,
   "metadata": {},
   "outputs": [
    {
     "name": "stdout",
     "output_type": "stream",
     "text": [
      "After Swapping :  [55, 43, 65, 21, 55.6, 33.2, 23.5]\n",
      "The Sum is :  296.3\n",
      "Smallest in List is :  21\n"
     ]
    }
   ],
   "source": [
    "def swap(numlist):\n",
    "    print(\"Before Swapping : \",numlist)\n",
    "    temp = numlist[-1]\n",
    "    numlist[-1]=numlist[0]\n",
    "    numlist[0]=temp\n",
    "    print(\"After Swapping : \",numlist)\n",
    "\n",
    "def listSum(numlist):\n",
    "    sum=0\n",
    "    for singleElement in numlist:\n",
    "        sum+=singleElement\n",
    "    print(\"The Sum is : \",sum)\n",
    "\n",
    "def smallest(numlist):\n",
    "    small=numlist[0]\n",
    "    for i in numlist:\n",
    "        if i<small:\n",
    "            small=i\n",
    "    print(\"Smallest in List is : \",small)\n",
    "\n",
    "numericList=[23.5,43,65,21,55.6,33.2,55]\n",
    "swap(numericList)\n",
    "listSum(numericList)\n",
    "smallest(numericList)\n"
   ]
  },
  {
   "cell_type": "code",
   "execution_count": 13,
   "metadata": {},
   "outputs": [
    {
     "name": "stdout",
     "output_type": "stream",
     "text": [
      "Initial List :  ['clientName', 'workerId', 'location', 'rating']\n",
      "After Adding elements :  [{'name': 'same', 'age': 45, 'gender': 'male'}, 'clientName', 'clientAge', 'workerId', 'location', 'rating', 'maxAmountPerHour', 'clientId', 'workerName', 'workerAvailablity', 'clientAge', 'expectedDuration', 90, 43, 54, 65, 2034, 2043, 2021, 1223]\n"
     ]
    }
   ],
   "source": [
    "# Create a LIST with your domain attributes, insert the elements using the append (), insert(), extend() and add any iterables (tuples, sets, dictionaries etc.) to the list (Use all the methods ).\n",
    "\n",
    "domainAttributes=[\"clientName\",\"workerId\",\"location\",\"rating\"]\n",
    "# \"maxAmountPerHour\",'clientId', 'workerName', 'workerAvailablity', 'clientAge', 'expectedDuration'\n",
    "print(\"Initial List : \",domainAttributes)\n",
    "domainAttributes.append(\"maxAmountPerHour\")\n",
    "domainAttributes.insert(1,\"clientAge\")\n",
    "domainAttributes.extend([\"clientId\", \"workerName\", \"workerAvailablity\", \"clientAge\", \"expectedDuration\"])\n",
    "person={\n",
    "    \"name\":\"same\",\n",
    "    \"age\":45,\n",
    "    \"gender\":\"male\"\n",
    "}\n",
    "\n",
    "pincodes={2034,2043,2021,1223}\n",
    "marks=(90,43,54,65)\n",
    "domainAttributes.extend(marks)\n",
    "domainAttributes.extend(pincodes)\n",
    "domainAttributes.insert(0,person)\n",
    "\n",
    "print(\"After Adding elements : \",domainAttributes)\n"
   ]
  },
  {
   "cell_type": "code",
   "execution_count": null,
   "metadata": {},
   "outputs": [],
   "source": [
    "# Sorting dictionary based on the key\n",
    "mydict={'a': 1, 'b': 2, 'c': 3,\n",
    "'k': 11, 'm': 13, 'z': 26,\n",
    "'a': 1, 'x': 24, 'y': 25,\n",
    "'p': 16, 'q': 17, 'r': 18}\n",
    "\n",
    "# new_dict = dict(sorted(mydict.items())) \n",
    "# rev_new_dict = dict(sorted(mydict.items(),reverse=True))\n",
    "keys= list(mydict.keys())\n",
    "keys.sort()\n",
    "# new_dict= {key:mydict[key] for key in keys}\n",
    "new_dict = dict(sorted(mydict.items(),key=lambda item : item[0]))\n",
    "print(new_dict)\n"
   ]
  },
  {
   "cell_type": "code",
   "execution_count": 11,
   "metadata": {},
   "outputs": [
    {
     "name": "stdout",
     "output_type": "stream",
     "text": [
      "dict_items([('a', 1), ('b', 2), ('c', 3), ('k', 11), ('m', 13), ('z', 26), ('x', 24), ('y', 25), ('p', 16), ('q', 17), ('r', 18)])\n",
      "1\n",
      "2\n",
      "3\n",
      "11\n",
      "13\n",
      "26\n",
      "24\n",
      "25\n",
      "16\n",
      "17\n",
      "18\n",
      "Sum :  156\n"
     ]
    }
   ],
   "source": [
    "#Sum of Values for a dictionary\n",
    "mydict={'a': 1, 'b': 2, 'c': 3,\n",
    "'k': 11, 'm': 13, 'z': 26,\n",
    "'a': 1, 'x': 24, 'y': 25,\n",
    "'p': 16, 'q': 17, 'r': 18}\n",
    "\n",
    "sum=0\n",
    "print(mydict.items())\n",
    "for key,val in mydict.items():\n",
    "    sum+=val\n",
    "    print(val)\n",
    "print(\"Sum : \",sum)\n",
    "    \n",
    "\n"
   ]
  },
  {
   "cell_type": "code",
   "execution_count": 3,
   "metadata": {},
   "outputs": [
    {
     "name": "stdout",
     "output_type": "stream",
     "text": [
      "['z', 'y', 'x', 'r', 'q', 'p', 'm', 'k', 'c', 'b', 'a']\n"
     ]
    }
   ],
   "source": [
    "# sorting dictionary based on decending order of value in lambda function\n",
    "mydict={'a': 1, 'b': 2, 'c': 3,\n",
    "'k': 11, 'm': 13, 'z': 26,\n",
    "'a': 1, 'x': 24, 'y': 25,\n",
    "'p': 16, 'q': 17, 'r': 18}\n",
    "\n",
    "new_dict=sorted(mydict,key= lambda item:item[0],reverse=True)\n",
    "print(new_dict)\n"
   ]
  }
 ],
 "metadata": {
  "kernelspec": {
   "display_name": "Python 3",
   "language": "python",
   "name": "python3"
  },
  "language_info": {
   "codemirror_mode": {
    "name": "ipython",
    "version": 3
   },
   "file_extension": ".py",
   "mimetype": "text/x-python",
   "name": "python",
   "nbconvert_exporter": "python",
   "pygments_lexer": "ipython3",
   "version": "3.9.13"
  },
  "orig_nbformat": 4
 },
 "nbformat": 4,
 "nbformat_minor": 2
}
