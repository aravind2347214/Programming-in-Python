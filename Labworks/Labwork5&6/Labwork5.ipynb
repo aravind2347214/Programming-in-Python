{
 "cells": [
  {
   "cell_type": "code",
   "execution_count": 6,
   "metadata": {},
   "outputs": [
    {
     "name": "stdout",
     "output_type": "stream",
     "text": [
      "Execption has occured:  division by zero\n",
      "Which is under  <class 'ZeroDivisionError'>\n"
     ]
    }
   ],
   "source": [
    "\"\"\"Write a program to handle the exception of ZeroDivisionError.\"\"\"\n",
    "\n",
    "try:\n",
    "    print(\"the output of 1/0 :\",1/0)\n",
    "except Exception as e:\n",
    "    print(\"Execption has occured: \",e)\n",
    "    print(\"Which is under \",e.__class__)"
   ]
  },
  {
   "cell_type": "code",
   "execution_count": 1,
   "metadata": {},
   "outputs": [
    {
     "name": "stdout",
     "output_type": "stream",
     "text": [
      "The Entered List is  [5, 10, 20, 30, 40]\n",
      "The length of list is  5\n",
      "Accessing the 7th element...\n",
      "Exception has occured :  list index out of range\n",
      "Which is under  <class 'IndexError'>\n"
     ]
    }
   ],
   "source": [
    "\"\"\" Write a program to handle the exception of IndexError.\"\"\"\n",
    "a=[5,10,20,30,40]\n",
    "print(\"The Entered List is \",a)\n",
    "print(\"The length of list is \",len(a))\n",
    "print(\"Accessing the 7th element...\")\n",
    "try:\n",
    "    print(\"The 7th element is \",a[7])\n",
    "except Exception as e:\n",
    "    print(\"Exception has occured : \",e)    \n",
    "    print(\"Which is under \",e.__class__)"
   ]
  }
 ],
 "metadata": {
  "kernelspec": {
   "display_name": "Python 3",
   "language": "python",
   "name": "python3"
  },
  "language_info": {
   "codemirror_mode": {
    "name": "ipython",
    "version": 3
   },
   "file_extension": ".py",
   "mimetype": "text/x-python",
   "name": "python",
   "nbconvert_exporter": "python",
   "pygments_lexer": "ipython3",
   "version": "3.9.13"
  },
  "orig_nbformat": 4
 },
 "nbformat": 4,
 "nbformat_minor": 2
}
