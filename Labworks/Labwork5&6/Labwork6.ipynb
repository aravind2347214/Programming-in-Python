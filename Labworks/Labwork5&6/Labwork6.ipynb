{
 "cells": [
  {
   "cell_type": "code",
   "execution_count": 2,
   "metadata": {},
   "outputs": [
    {
     "name": "stdout",
     "output_type": "stream",
     "text": [
      "The entered phone number is : (812)-953-5033\n",
      "(812)-953-5033  is a valid number\n"
     ]
    }
   ],
   "source": [
    "\"\"\"Write a program using the Regular Exception and create a function that \n",
    "accepts a string and searches it for a valid phone number.\"\"\"\n",
    "\n",
    "\"\"\"\n",
    "Return the phone number if found.\n",
    "A valid phone number may be one of the following:\n",
    "(xxx)-xxx-xxxx\n",
    "xxx-xxx-xxxx\n",
    "\"\"\"\n",
    "\n",
    "import re\n",
    "def valid_number(phone_no):\n",
    "    print(\"The entered phone number is :\",phone_no)\n",
    "    pattern = r\"\\(\\d{3}\\)-\\d{3}-\\d{4}|\\d-{3}-\\d{4}\"\n",
    "    match = re.search(pattern,phone_no)\n",
    "    if match:\n",
    "        return phone_no\n",
    "    else :\n",
    "        return None\n",
    "    \n",
    "    \n",
    "phone_no= input(\"Enter a phone number\")\n",
    "valid_phone = valid_number(phone_no)\n",
    "if(valid_phone!=None):\n",
    "    print(valid_phone,\" is a valid number\")\n",
    "else:\n",
    "    print(\"It is not a valid number\")\n",
    "\n",
    "\n",
    "\n",
    "\n"
   ]
  },
  {
   "cell_type": "code",
   "execution_count": 1,
   "metadata": {},
   "outputs": [
    {
     "name": "stdout",
     "output_type": "stream",
     "text": [
      "Entered password :  Ax1#asdfgh\n",
      "Ax1#asdfgh  is a strong password\n"
     ]
    }
   ],
   "source": [
    "\"\"\"\n",
    "Write a function that employs regular expressions to ensure the password given to the function is strong.\n",
    "\"\"\"\n",
    "\n",
    "\"\"\"\n",
    "A strong password is defined as follows:\n",
    "·       at least eight characters long\n",
    "·       contains one uppercase character\n",
    "·       contains one lowercase character\n",
    "·       has at least one digit\n",
    "·       has at least one special character\n",
    "[For instance: Christ@123]\n",
    "\"\"\"\n",
    "import re\n",
    "def valid_password(password):\n",
    "    print(\"Entered password : \",password)\n",
    "    pattern=r\"^(?=.*[A-Z])(?=.[a-z])(?=.*[0-9])(?=.*[!@#$%^&*()])(.{8,})$\"\n",
    "    match = re.search(pattern,password)\n",
    "    if match:\n",
    "        return password\n",
    "    else:\n",
    "        return None\n",
    "    \n",
    "    \n",
    "\n",
    "password= input(\"Enter a password\")\n",
    "strong_password = valid_password(password)\n",
    "if(strong_password!=None):\n",
    "    print(strong_password,\" is a strong password\")\n",
    "else:\n",
    "    print(\"It is not a strong password\")\n",
    "\n"
   ]
  }
 ],
 "metadata": {
  "kernelspec": {
   "display_name": "Python 3",
   "language": "python",
   "name": "python3"
  },
  "language_info": {
   "codemirror_mode": {
    "name": "ipython",
    "version": 3
   },
   "file_extension": ".py",
   "mimetype": "text/x-python",
   "name": "python",
   "nbconvert_exporter": "python",
   "pygments_lexer": "ipython3",
   "version": "3.9.13"
  },
  "orig_nbformat": 4
 },
 "nbformat": 4,
 "nbformat_minor": 2
}
