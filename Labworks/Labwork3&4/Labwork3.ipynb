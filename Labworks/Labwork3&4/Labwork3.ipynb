{
 "cells": [
  {
   "cell_type": "code",
   "execution_count": 14,
   "metadata": {},
   "outputs": [
    {
     "name": "stdout",
     "output_type": "stream",
     "text": [
      "qwertyui_____asdertgyhui____1234567\n",
      "['qwertyui', '', '', '', '', 'asdertgyhui', '', '', '', '1234567']\n",
      "qwertyui\n",
      "asdertgyhui\n",
      "1234567\n",
      "['qwertyui', 'asdertgyhui', '1234567']\n",
      "{'name': 'qwertyui', 'Domain_name': '', 'Regno': ''}\n"
     ]
    }
   ],
   "source": [
    "'''\n",
    "Write a function in Python with a string such that it accepts a parameter- “stringsplit”.\n",
    " This encoded string will contain your name, domain name and register number. \n",
    " You can separate the values in the string by any number of underscores.\n",
    "   [The string should not contain any other underscore symbols in your name,\n",
    "     domain name and register number]. The function should return a Python\n",
    "       dictionary with your name, domain name and register number.\n",
    "For example, if the input would be \" Aaron___Googleplaystore____2347201”.\n",
    " Then the function should return the output as follows:\n",
    "{ \"name\": \" Aaron \",\n",
    "\"Domain_name\": \" Googleplaystore \",\n",
    "\"Regno\": \"2347201\" }\n",
    "'''\n",
    "\n",
    "\n",
    "def stringsplit(dataString):\n",
    "    print(dataString)\n",
    "    detaildict={}\n",
    "    filteredWords=[]\n",
    "    words=dataString.split('_')\n",
    "    for i in words:\n",
    "        if(i!=''):\n",
    "            filteredWords.append(i)\n",
    "    detaildict['name']=filteredWords[0]\n",
    "    detaildict['Domain_name']=filteredWords[1]\n",
    "    detaildict['Regno']=filteredWords[2]\n",
    "    print(detaildict)\n",
    "\n",
    "details= input(\"Enter The Details in Underscore Format  word__word\")\n",
    "stringsplit(details)"
   ]
  },
  {
   "cell_type": "code",
   "execution_count": null,
   "metadata": {},
   "outputs": [],
   "source": []
  }
 ],
 "metadata": {
  "kernelspec": {
   "display_name": "Python 3",
   "language": "python",
   "name": "python3"
  },
  "language_info": {
   "codemirror_mode": {
    "name": "ipython",
    "version": 3
   },
   "file_extension": ".py",
   "mimetype": "text/x-python",
   "name": "python",
   "nbconvert_exporter": "python",
   "pygments_lexer": "ipython3",
   "version": "3.9.13"
  },
  "orig_nbformat": 4
 },
 "nbformat": 4,
 "nbformat_minor": 2
}
